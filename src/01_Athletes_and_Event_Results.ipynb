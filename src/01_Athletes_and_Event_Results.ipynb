{
 "cells": [
  {
   "cell_type": "code",
   "execution_count": 43,
   "metadata": {},
   "outputs": [],
   "source": [
    "import pandas    as pd\n",
    "import missingno as msno"
   ]
  },
  {
   "cell_type": "markdown",
   "metadata": {},
   "source": [
    "# ETL: National Olympic Committees (NOCs)"
   ]
  },
  {
   "cell_type": "code",
   "execution_count": 44,
   "metadata": {},
   "outputs": [
    {
     "name": "stdout",
     "output_type": "stream",
     "text": [
      "(230, 2)\n"
     ]
    },
    {
     "data": {
      "text/html": [
       "<div>\n",
       "<style scoped>\n",
       "    .dataframe tbody tr th:only-of-type {\n",
       "        vertical-align: middle;\n",
       "    }\n",
       "\n",
       "    .dataframe tbody tr th {\n",
       "        vertical-align: top;\n",
       "    }\n",
       "\n",
       "    .dataframe thead th {\n",
       "        text-align: right;\n",
       "    }\n",
       "</style>\n",
       "<table border=\"1\" class=\"dataframe\">\n",
       "  <thead>\n",
       "    <tr style=\"text-align: right;\">\n",
       "      <th></th>\n",
       "      <th>NOC</th>\n",
       "      <th>region</th>\n",
       "    </tr>\n",
       "  </thead>\n",
       "  <tbody>\n",
       "    <tr>\n",
       "      <th>0</th>\n",
       "      <td>AFG</td>\n",
       "      <td>Afghanistan</td>\n",
       "    </tr>\n",
       "    <tr>\n",
       "      <th>1</th>\n",
       "      <td>AHO</td>\n",
       "      <td>Curacao</td>\n",
       "    </tr>\n",
       "    <tr>\n",
       "      <th>2</th>\n",
       "      <td>ALB</td>\n",
       "      <td>Albania</td>\n",
       "    </tr>\n",
       "    <tr>\n",
       "      <th>3</th>\n",
       "      <td>ALG</td>\n",
       "      <td>Algeria</td>\n",
       "    </tr>\n",
       "    <tr>\n",
       "      <th>4</th>\n",
       "      <td>AND</td>\n",
       "      <td>Andorra</td>\n",
       "    </tr>\n",
       "  </tbody>\n",
       "</table>\n",
       "</div>"
      ],
      "text/plain": [
       "   NOC       region\n",
       "0  AFG  Afghanistan\n",
       "1  AHO      Curacao\n",
       "2  ALB      Albania\n",
       "3  ALG      Algeria\n",
       "4  AND      Andorra"
      ]
     },
     "execution_count": 44,
     "metadata": {},
     "output_type": "execute_result"
    }
   ],
   "source": [
    "# import countries competing in Olympics\n",
    "regions = pd.read_csv(\"../dat/01_noc_regions.csv\")\n",
    "\n",
    "# drop extraneous country columns\n",
    "regions = regions.drop(['notes'], axis=1)\n",
    "\n",
    "# show Olympic countries\n",
    "print(regions.shape)\n",
    "regions.head()"
   ]
  },
  {
   "cell_type": "markdown",
   "metadata": {},
   "source": [
    "# ETL: Host Cities of the Olympic Games"
   ]
  },
  {
   "cell_type": "code",
   "execution_count": 45,
   "metadata": {},
   "outputs": [
    {
     "name": "stdout",
     "output_type": "stream",
     "text": [
      "(42, 2)\n"
     ]
    },
    {
     "data": {
      "text/html": [
       "<div>\n",
       "<style scoped>\n",
       "    .dataframe tbody tr th:only-of-type {\n",
       "        vertical-align: middle;\n",
       "    }\n",
       "\n",
       "    .dataframe tbody tr th {\n",
       "        vertical-align: top;\n",
       "    }\n",
       "\n",
       "    .dataframe thead th {\n",
       "        text-align: right;\n",
       "    }\n",
       "</style>\n",
       "<table border=\"1\" class=\"dataframe\">\n",
       "  <thead>\n",
       "    <tr style=\"text-align: right;\">\n",
       "      <th></th>\n",
       "      <th>Host City</th>\n",
       "      <th>Host Country</th>\n",
       "    </tr>\n",
       "  </thead>\n",
       "  <tbody>\n",
       "    <tr>\n",
       "      <th>0</th>\n",
       "      <td>Barcelona</td>\n",
       "      <td>ESP</td>\n",
       "    </tr>\n",
       "    <tr>\n",
       "      <th>1</th>\n",
       "      <td>London</td>\n",
       "      <td>GBR</td>\n",
       "    </tr>\n",
       "    <tr>\n",
       "      <th>2</th>\n",
       "      <td>Antwerpen</td>\n",
       "      <td>BEL</td>\n",
       "    </tr>\n",
       "    <tr>\n",
       "      <th>3</th>\n",
       "      <td>Paris</td>\n",
       "      <td>FRA</td>\n",
       "    </tr>\n",
       "    <tr>\n",
       "      <th>4</th>\n",
       "      <td>Calgary</td>\n",
       "      <td>CAN</td>\n",
       "    </tr>\n",
       "    <tr>\n",
       "      <th>5</th>\n",
       "      <td>Albertville</td>\n",
       "      <td>FRA</td>\n",
       "    </tr>\n",
       "    <tr>\n",
       "      <th>6</th>\n",
       "      <td>Lillehammer</td>\n",
       "      <td>NOR</td>\n",
       "    </tr>\n",
       "    <tr>\n",
       "      <th>7</th>\n",
       "      <td>Los Angeles</td>\n",
       "      <td>USA</td>\n",
       "    </tr>\n",
       "    <tr>\n",
       "      <th>8</th>\n",
       "      <td>Salt Lake City</td>\n",
       "      <td>USA</td>\n",
       "    </tr>\n",
       "    <tr>\n",
       "      <th>9</th>\n",
       "      <td>Helsinki</td>\n",
       "      <td>FIN</td>\n",
       "    </tr>\n",
       "    <tr>\n",
       "      <th>10</th>\n",
       "      <td>Lake Placid</td>\n",
       "      <td>USA</td>\n",
       "    </tr>\n",
       "    <tr>\n",
       "      <th>11</th>\n",
       "      <td>Sydney</td>\n",
       "      <td>AUS</td>\n",
       "    </tr>\n",
       "    <tr>\n",
       "      <th>12</th>\n",
       "      <td>Atlanta</td>\n",
       "      <td>USA</td>\n",
       "    </tr>\n",
       "    <tr>\n",
       "      <th>13</th>\n",
       "      <td>Stockholm</td>\n",
       "      <td>SWE</td>\n",
       "    </tr>\n",
       "    <tr>\n",
       "      <th>14</th>\n",
       "      <td>Sochi</td>\n",
       "      <td>RUS</td>\n",
       "    </tr>\n",
       "    <tr>\n",
       "      <th>15</th>\n",
       "      <td>Nagano</td>\n",
       "      <td>JPN</td>\n",
       "    </tr>\n",
       "    <tr>\n",
       "      <th>16</th>\n",
       "      <td>Torino</td>\n",
       "      <td>ITA</td>\n",
       "    </tr>\n",
       "    <tr>\n",
       "      <th>17</th>\n",
       "      <td>Beijing</td>\n",
       "      <td>CHN</td>\n",
       "    </tr>\n",
       "    <tr>\n",
       "      <th>18</th>\n",
       "      <td>Rio de Janeiro</td>\n",
       "      <td>BRA</td>\n",
       "    </tr>\n",
       "    <tr>\n",
       "      <th>19</th>\n",
       "      <td>Athina</td>\n",
       "      <td>GRE</td>\n",
       "    </tr>\n",
       "    <tr>\n",
       "      <th>20</th>\n",
       "      <td>Squaw Valley</td>\n",
       "      <td>USA</td>\n",
       "    </tr>\n",
       "    <tr>\n",
       "      <th>21</th>\n",
       "      <td>Innsbruck</td>\n",
       "      <td>SUI</td>\n",
       "    </tr>\n",
       "    <tr>\n",
       "      <th>22</th>\n",
       "      <td>Sarajevo</td>\n",
       "      <td>YUG</td>\n",
       "    </tr>\n",
       "    <tr>\n",
       "      <th>23</th>\n",
       "      <td>Mexico City</td>\n",
       "      <td>MEX</td>\n",
       "    </tr>\n",
       "    <tr>\n",
       "      <th>24</th>\n",
       "      <td>Munich</td>\n",
       "      <td>GER</td>\n",
       "    </tr>\n",
       "    <tr>\n",
       "      <th>25</th>\n",
       "      <td>Seoul</td>\n",
       "      <td>KOR</td>\n",
       "    </tr>\n",
       "    <tr>\n",
       "      <th>26</th>\n",
       "      <td>Berlin</td>\n",
       "      <td>GER</td>\n",
       "    </tr>\n",
       "    <tr>\n",
       "      <th>27</th>\n",
       "      <td>Oslo</td>\n",
       "      <td>NOR</td>\n",
       "    </tr>\n",
       "    <tr>\n",
       "      <th>28</th>\n",
       "      <td>Cortina d'Ampezzo</td>\n",
       "      <td>ITA</td>\n",
       "    </tr>\n",
       "    <tr>\n",
       "      <th>29</th>\n",
       "      <td>Melbourne</td>\n",
       "      <td>AUS</td>\n",
       "    </tr>\n",
       "    <tr>\n",
       "      <th>30</th>\n",
       "      <td>Roma</td>\n",
       "      <td>ITA</td>\n",
       "    </tr>\n",
       "    <tr>\n",
       "      <th>31</th>\n",
       "      <td>Amsterdam</td>\n",
       "      <td>NED</td>\n",
       "    </tr>\n",
       "    <tr>\n",
       "      <th>32</th>\n",
       "      <td>Montreal</td>\n",
       "      <td>CAN</td>\n",
       "    </tr>\n",
       "    <tr>\n",
       "      <th>33</th>\n",
       "      <td>Moskva</td>\n",
       "      <td>URS</td>\n",
       "    </tr>\n",
       "    <tr>\n",
       "      <th>34</th>\n",
       "      <td>Tokyo</td>\n",
       "      <td>JPN</td>\n",
       "    </tr>\n",
       "    <tr>\n",
       "      <th>35</th>\n",
       "      <td>Vancouver</td>\n",
       "      <td>CAN</td>\n",
       "    </tr>\n",
       "    <tr>\n",
       "      <th>36</th>\n",
       "      <td>Grenoble</td>\n",
       "      <td>FRA</td>\n",
       "    </tr>\n",
       "    <tr>\n",
       "      <th>37</th>\n",
       "      <td>Sapporo</td>\n",
       "      <td>JPN</td>\n",
       "    </tr>\n",
       "    <tr>\n",
       "      <th>38</th>\n",
       "      <td>Chamonix</td>\n",
       "      <td>FRA</td>\n",
       "    </tr>\n",
       "    <tr>\n",
       "      <th>39</th>\n",
       "      <td>St. Louis</td>\n",
       "      <td>USA</td>\n",
       "    </tr>\n",
       "    <tr>\n",
       "      <th>40</th>\n",
       "      <td>Sankt Moritz</td>\n",
       "      <td>SUI</td>\n",
       "    </tr>\n",
       "    <tr>\n",
       "      <th>41</th>\n",
       "      <td>Garmisch-Partenkirchen</td>\n",
       "      <td>GDR</td>\n",
       "    </tr>\n",
       "  </tbody>\n",
       "</table>\n",
       "</div>"
      ],
      "text/plain": [
       "                 Host City Host Country\n",
       "0                Barcelona          ESP\n",
       "1                   London          GBR\n",
       "2                Antwerpen          BEL\n",
       "3                    Paris          FRA\n",
       "4                  Calgary          CAN\n",
       "5              Albertville          FRA\n",
       "6              Lillehammer          NOR\n",
       "7              Los Angeles          USA\n",
       "8           Salt Lake City          USA\n",
       "9                 Helsinki          FIN\n",
       "10             Lake Placid          USA\n",
       "11                  Sydney          AUS\n",
       "12                 Atlanta          USA\n",
       "13               Stockholm          SWE\n",
       "14                   Sochi          RUS\n",
       "15                  Nagano          JPN\n",
       "16                  Torino          ITA\n",
       "17                 Beijing          CHN\n",
       "18          Rio de Janeiro          BRA\n",
       "19                  Athina          GRE\n",
       "20            Squaw Valley          USA\n",
       "21               Innsbruck          SUI\n",
       "22                Sarajevo          YUG\n",
       "23             Mexico City          MEX\n",
       "24                  Munich          GER\n",
       "25                   Seoul          KOR\n",
       "26                  Berlin          GER\n",
       "27                    Oslo          NOR\n",
       "28       Cortina d'Ampezzo          ITA\n",
       "29               Melbourne          AUS\n",
       "30                    Roma          ITA\n",
       "31               Amsterdam          NED\n",
       "32                Montreal          CAN\n",
       "33                  Moskva          URS\n",
       "34                   Tokyo          JPN\n",
       "35               Vancouver          CAN\n",
       "36                Grenoble          FRA\n",
       "37                 Sapporo          JPN\n",
       "38                Chamonix          FRA\n",
       "39               St. Louis          USA\n",
       "40            Sankt Moritz          SUI\n",
       "41  Garmisch-Partenkirchen          GDR"
      ]
     },
     "execution_count": 45,
     "metadata": {},
     "output_type": "execute_result"
    }
   ],
   "source": [
    "# print host country committees\n",
    "hosts = pd.read_csv(\"../dat/02_host_cities.csv\")\n",
    "print(hosts.shape)\n",
    "hosts"
   ]
  },
  {
   "cell_type": "markdown",
   "metadata": {},
   "source": [
    "# ETL: Olympic Athletes & Events"
   ]
  },
  {
   "cell_type": "code",
   "execution_count": 48,
   "metadata": {},
   "outputs": [
    {
     "name": "stdout",
     "output_type": "stream",
     "text": [
      "(271116, 17)\n"
     ]
    },
    {
     "data": {
      "text/html": [
       "<div>\n",
       "<style scoped>\n",
       "    .dataframe tbody tr th:only-of-type {\n",
       "        vertical-align: middle;\n",
       "    }\n",
       "\n",
       "    .dataframe tbody tr th {\n",
       "        vertical-align: top;\n",
       "    }\n",
       "\n",
       "    .dataframe thead th {\n",
       "        text-align: right;\n",
       "    }\n",
       "</style>\n",
       "<table border=\"1\" class=\"dataframe\">\n",
       "  <thead>\n",
       "    <tr style=\"text-align: right;\">\n",
       "      <th></th>\n",
       "      <th>ID</th>\n",
       "      <th>Name</th>\n",
       "      <th>Sex</th>\n",
       "      <th>Age</th>\n",
       "      <th>Height</th>\n",
       "      <th>Weight</th>\n",
       "      <th>Team</th>\n",
       "      <th>NOC</th>\n",
       "      <th>Games</th>\n",
       "      <th>Year</th>\n",
       "      <th>Season</th>\n",
       "      <th>City</th>\n",
       "      <th>Sport</th>\n",
       "      <th>Event</th>\n",
       "      <th>Medal</th>\n",
       "      <th>Host City</th>\n",
       "      <th>Host Country</th>\n",
       "    </tr>\n",
       "  </thead>\n",
       "  <tbody>\n",
       "    <tr>\n",
       "      <th>159033</th>\n",
       "      <td>35698</td>\n",
       "      <td>Edwin Harold \"Teddy\" Flack</td>\n",
       "      <td>M</td>\n",
       "      <td>22.0</td>\n",
       "      <td>NaN</td>\n",
       "      <td>NaN</td>\n",
       "      <td>Australia</td>\n",
       "      <td>AUS</td>\n",
       "      <td>1896 Summer</td>\n",
       "      <td>1896</td>\n",
       "      <td>Summer</td>\n",
       "      <td>Athina</td>\n",
       "      <td>Tennis</td>\n",
       "      <td>Tennis Men's Singles</td>\n",
       "      <td>NaN</td>\n",
       "      <td>Athina</td>\n",
       "      <td>GRE</td>\n",
       "    </tr>\n",
       "    <tr>\n",
       "      <th>159034</th>\n",
       "      <td>35698</td>\n",
       "      <td>Edwin Harold \"Teddy\" Flack</td>\n",
       "      <td>M</td>\n",
       "      <td>22.0</td>\n",
       "      <td>NaN</td>\n",
       "      <td>NaN</td>\n",
       "      <td>Australia/Great Britain</td>\n",
       "      <td>AUS</td>\n",
       "      <td>1896 Summer</td>\n",
       "      <td>1896</td>\n",
       "      <td>Summer</td>\n",
       "      <td>Athina</td>\n",
       "      <td>Tennis</td>\n",
       "      <td>Tennis Men's Doubles</td>\n",
       "      <td>Bronze</td>\n",
       "      <td>Athina</td>\n",
       "      <td>GRE</td>\n",
       "    </tr>\n",
       "    <tr>\n",
       "      <th>159035</th>\n",
       "      <td>35698</td>\n",
       "      <td>Edwin Harold \"Teddy\" Flack</td>\n",
       "      <td>M</td>\n",
       "      <td>22.0</td>\n",
       "      <td>NaN</td>\n",
       "      <td>NaN</td>\n",
       "      <td>Australia</td>\n",
       "      <td>AUS</td>\n",
       "      <td>1896 Summer</td>\n",
       "      <td>1896</td>\n",
       "      <td>Summer</td>\n",
       "      <td>Athina</td>\n",
       "      <td>Athletics</td>\n",
       "      <td>Athletics Men's 800 metres</td>\n",
       "      <td>Gold</td>\n",
       "      <td>Athina</td>\n",
       "      <td>GRE</td>\n",
       "    </tr>\n",
       "    <tr>\n",
       "      <th>159036</th>\n",
       "      <td>35698</td>\n",
       "      <td>Edwin Harold \"Teddy\" Flack</td>\n",
       "      <td>M</td>\n",
       "      <td>22.0</td>\n",
       "      <td>NaN</td>\n",
       "      <td>NaN</td>\n",
       "      <td>Australia</td>\n",
       "      <td>AUS</td>\n",
       "      <td>1896 Summer</td>\n",
       "      <td>1896</td>\n",
       "      <td>Summer</td>\n",
       "      <td>Athina</td>\n",
       "      <td>Athletics</td>\n",
       "      <td>Athletics Men's 1,500 metres</td>\n",
       "      <td>Gold</td>\n",
       "      <td>Athina</td>\n",
       "      <td>GRE</td>\n",
       "    </tr>\n",
       "    <tr>\n",
       "      <th>159037</th>\n",
       "      <td>35698</td>\n",
       "      <td>Edwin Harold \"Teddy\" Flack</td>\n",
       "      <td>M</td>\n",
       "      <td>22.0</td>\n",
       "      <td>NaN</td>\n",
       "      <td>NaN</td>\n",
       "      <td>Australia</td>\n",
       "      <td>AUS</td>\n",
       "      <td>1896 Summer</td>\n",
       "      <td>1896</td>\n",
       "      <td>Summer</td>\n",
       "      <td>Athina</td>\n",
       "      <td>Athletics</td>\n",
       "      <td>Athletics Men's Marathon</td>\n",
       "      <td>NaN</td>\n",
       "      <td>Athina</td>\n",
       "      <td>GRE</td>\n",
       "    </tr>\n",
       "  </tbody>\n",
       "</table>\n",
       "</div>"
      ],
      "text/plain": [
       "           ID                        Name Sex   Age  Height  Weight  \\\n",
       "159033  35698  Edwin Harold \"Teddy\" Flack   M  22.0     NaN     NaN   \n",
       "159034  35698  Edwin Harold \"Teddy\" Flack   M  22.0     NaN     NaN   \n",
       "159035  35698  Edwin Harold \"Teddy\" Flack   M  22.0     NaN     NaN   \n",
       "159036  35698  Edwin Harold \"Teddy\" Flack   M  22.0     NaN     NaN   \n",
       "159037  35698  Edwin Harold \"Teddy\" Flack   M  22.0     NaN     NaN   \n",
       "\n",
       "                           Team  NOC        Games  Year  Season    City  \\\n",
       "159033                Australia  AUS  1896 Summer  1896  Summer  Athina   \n",
       "159034  Australia/Great Britain  AUS  1896 Summer  1896  Summer  Athina   \n",
       "159035                Australia  AUS  1896 Summer  1896  Summer  Athina   \n",
       "159036                Australia  AUS  1896 Summer  1896  Summer  Athina   \n",
       "159037                Australia  AUS  1896 Summer  1896  Summer  Athina   \n",
       "\n",
       "            Sport                         Event   Medal Host City Host Country  \n",
       "159033     Tennis          Tennis Men's Singles     NaN    Athina          GRE  \n",
       "159034     Tennis          Tennis Men's Doubles  Bronze    Athina          GRE  \n",
       "159035  Athletics    Athletics Men's 800 metres    Gold    Athina          GRE  \n",
       "159036  Athletics  Athletics Men's 1,500 metres    Gold    Athina          GRE  \n",
       "159037  Athletics      Athletics Men's Marathon     NaN    Athina          GRE  "
      ]
     },
     "execution_count": 48,
     "metadata": {},
     "output_type": "execute_result"
    }
   ],
   "source": [
    "# import list of athletes competing in events\n",
    "games = pd.read_csv(\"../dat/03_athlete_events.csv\")\n",
    "\n",
    "# merge host countries\n",
    "games = games.merge(hosts, left_on='City', right_on='Host City')\n",
    "games = games.sort_values(by = ['Games','NOC'])\n",
    "\n",
    "# show athletes and events\n",
    "print(games.shape)\n",
    "games.head()"
   ]
  },
  {
   "cell_type": "code",
   "execution_count": 49,
   "metadata": {},
   "outputs": [
    {
     "name": "stdout",
     "output_type": "stream",
     "text": [
      "24\n"
     ]
    },
    {
     "data": {
      "text/plain": [
       "array(['GRE', 'FRA', 'USA', 'GBR', 'SWE', 'BEL', 'NED', 'SUI', 'GER',\n",
       "       'GDR', 'FIN', 'NOR', 'AUS', 'ITA', 'JPN', 'MEX', 'CAN', 'URS',\n",
       "       'YUG', 'KOR', 'ESP', 'CHN', 'RUS', 'BRA'], dtype=object)"
      ]
     },
     "execution_count": 49,
     "metadata": {},
     "output_type": "execute_result"
    }
   ],
   "source": [
    "print(len(games['Host Country'].unique()))\n",
    "games['Host Country'].unique()"
   ]
  },
  {
   "cell_type": "code",
   "execution_count": 50,
   "metadata": {},
   "outputs": [
    {
     "name": "stdout",
     "output_type": "stream",
     "text": [
      "230\n"
     ]
    },
    {
     "data": {
      "text/plain": [
       "array(['AUS', 'AUT', 'DEN', 'FRA', 'GBR', 'GER', 'GRE', 'HUN', 'ITA',\n",
       "       'SUI', 'SWE', 'USA', 'ARG', 'BEL', 'BOH', 'BRA', 'CAN', 'COL',\n",
       "       'CUB', 'ESP', 'HAI', 'IND', 'IRI', 'LUX', 'MEX', 'NED', 'NOR',\n",
       "       'NZL', 'PER', 'ROU', 'RUS', 'NFL', 'RSA', 'CRT', 'EGY', 'FIN',\n",
       "       'TUR', 'ANZ', 'ISL', 'CHI', 'JPN', 'POL', 'POR', 'SRB', 'UNK',\n",
       "       'EST', 'MON', 'TCH', 'YUG', 'BUL', 'ECU', 'IRL', 'LAT', 'LTU',\n",
       "       'PHI', 'URU', 'NEP', 'MLT', 'PAN', 'ZIM', 'CHN', 'ESA', 'GUA',\n",
       "       'VEN', 'AFG', 'BER', 'BOL', 'CRC', 'LIE', 'GUY', 'IRQ', 'JAM',\n",
       "       'KOR', 'LIB', 'MYA', 'PAK', 'PUR', 'SGP', 'SRI', 'SYR', 'TTO',\n",
       "       'AHO', 'BAH', 'GHA', 'HKG', 'INA', 'ISR', 'NGR', 'SAA', 'THA',\n",
       "       'URS', 'VNM', 'CAM', 'ETH', 'FIJ', 'KEN', 'LBR', 'MAL', 'NBO',\n",
       "       'TPE', 'UGA', 'MAR', 'RHO', 'SMR', 'SUD', 'TUN', 'UAR', 'WIF',\n",
       "       'ALG', 'CGO', 'CHA', 'CIV', 'CMR', 'DOM', 'MAD', 'MAS', 'MGL',\n",
       "       'MLI', 'NIG', 'SEN', 'TAN', 'ZAM', 'PRK', 'BAR', 'BIZ', 'CAF',\n",
       "       'COD', 'FRG', 'GDR', 'GUI', 'HON', 'ISV', 'KUW', 'LBA', 'NCA',\n",
       "       'PAR', 'SLE', 'SUR', 'ALB', 'BEN', 'BUR', 'GAB', 'KSA', 'LES',\n",
       "       'MAW', 'SOM', 'SWZ', 'TOG', 'AND', 'ANT', 'CAY', 'PNG', 'ANG',\n",
       "       'BOT', 'CYP', 'JOR', 'LAO', 'MOZ', 'SEY', 'VIE', 'BAN', 'BHU',\n",
       "       'BRN', 'DJI', 'GAM', 'GEQ', 'GRN', 'IVB', 'MRI', 'MTN', 'OMA',\n",
       "       'QAT', 'RWA', 'SAM', 'SOL', 'TGA', 'UAE', 'YAR', 'ARU', 'ASA',\n",
       "       'COK', 'GUM', 'MDV', 'VAN', 'VIN', 'YMD', 'BIH', 'CRO', 'EUN',\n",
       "       'IOA', 'NAM', 'SLO', 'YEM', 'ARM', 'BLR', 'CZE', 'GEO', 'KAZ',\n",
       "       'KGZ', 'MDA', 'SVK', 'UKR', 'UZB', 'AZE', 'BDI', 'BRU', 'COM',\n",
       "       'CPV', 'DMA', 'GBS', 'LCA', 'MKD', 'NRU', 'PLE', 'SCG', 'SKN',\n",
       "       'STP', 'TJK', 'TKM', 'ERI', 'FSM', 'PLW', 'KIR', 'TLS', 'MHL',\n",
       "       'MNE', 'TUV', 'KOS', 'ROT', 'SSD'], dtype=object)"
      ]
     },
     "execution_count": 50,
     "metadata": {},
     "output_type": "execute_result"
    }
   ],
   "source": [
    "print(len(games['NOC'].unique()))\n",
    "games['NOC'].unique()"
   ]
  },
  {
   "cell_type": "code",
   "execution_count": 51,
   "metadata": {},
   "outputs": [
    {
     "name": "stdout",
     "output_type": "stream",
     "text": [
      "51\n"
     ]
    },
    {
     "data": {
      "text/plain": [
       "array(['1896 Summer', '1900 Summer', '1904 Summer', '1906 Summer',\n",
       "       '1908 Summer', '1912 Summer', '1920 Summer', '1924 Summer',\n",
       "       '1924 Winter', '1928 Summer', '1928 Winter', '1932 Summer',\n",
       "       '1932 Winter', '1936 Summer', '1936 Winter', '1948 Summer',\n",
       "       '1948 Winter', '1952 Summer', '1952 Winter', '1956 Summer',\n",
       "       '1956 Winter', '1960 Summer', '1960 Winter', '1964 Summer',\n",
       "       '1964 Winter', '1968 Summer', '1968 Winter', '1972 Summer',\n",
       "       '1972 Winter', '1976 Summer', '1976 Winter', '1980 Summer',\n",
       "       '1980 Winter', '1984 Summer', '1984 Winter', '1988 Summer',\n",
       "       '1988 Winter', '1992 Summer', '1992 Winter', '1994 Winter',\n",
       "       '1996 Summer', '1998 Winter', '2000 Summer', '2002 Winter',\n",
       "       '2004 Summer', '2006 Winter', '2008 Summer', '2010 Winter',\n",
       "       '2012 Summer', '2014 Winter', '2016 Summer'], dtype=object)"
      ]
     },
     "execution_count": 51,
     "metadata": {},
     "output_type": "execute_result"
    }
   ],
   "source": [
    "print(len(games['Games'].unique()))\n",
    "games['Games'].unique()"
   ]
  },
  {
   "cell_type": "code",
   "execution_count": 52,
   "metadata": {},
   "outputs": [
    {
     "name": "stdout",
     "output_type": "stream",
     "text": [
      "66\n"
     ]
    },
    {
     "data": {
      "text/plain": [
       "array(['Tennis', 'Athletics', 'Swimming', 'Cycling', 'Fencing',\n",
       "       'Weightlifting', 'Gymnastics', 'Shooting', 'Wrestling',\n",
       "       'Equestrianism', 'Rowing', 'Water Polo', 'Football', 'Archery',\n",
       "       'Tug-Of-War', 'Basque Pelota', 'Rugby', 'Sailing', 'Cricket',\n",
       "       'Croquet', 'Polo', 'Golf', 'Lacrosse', 'Diving', 'Boxing', 'Roque',\n",
       "       'Figure Skating', 'Hockey', 'Motorboating', 'Racquets',\n",
       "       'Jeu De Paume', 'Modern Pentathlon', 'Art Competitions',\n",
       "       'Ice Hockey', 'Alpinism', 'Speed Skating', 'Bobsleigh',\n",
       "       'Military Ski Patrol', 'Cross Country Skiing', 'Nordic Combined',\n",
       "       'Ski Jumping', 'Curling', 'Skeleton', 'Handball', 'Canoeing',\n",
       "       'Basketball', 'Aeronautics', 'Alpine Skiing', 'Biathlon', 'Judo',\n",
       "       'Volleyball', 'Luge', 'Synchronized Swimming',\n",
       "       'Rhythmic Gymnastics', 'Table Tennis', 'Badminton', 'Baseball',\n",
       "       'Freestyle Skiing', 'Short Track Speed Skating',\n",
       "       'Beach Volleyball', 'Softball', 'Snowboarding', 'Triathlon',\n",
       "       'Trampolining', 'Taekwondo', 'Rugby Sevens'], dtype=object)"
      ]
     },
     "execution_count": 52,
     "metadata": {},
     "output_type": "execute_result"
    }
   ],
   "source": [
    "print(len(games['Sport'].unique()))\n",
    "games['Sport'].unique()"
   ]
  },
  {
   "cell_type": "code",
   "execution_count": 53,
   "metadata": {},
   "outputs": [
    {
     "name": "stdout",
     "output_type": "stream",
     "text": [
      "4\n"
     ]
    },
    {
     "data": {
      "text/plain": [
       "array([nan, 'Bronze', 'Gold', 'Silver'], dtype=object)"
      ]
     },
     "execution_count": 53,
     "metadata": {},
     "output_type": "execute_result"
    }
   ],
   "source": [
    "print(len(games['Medal'].unique()))\n",
    "games['Medal'].unique()"
   ]
  },
  {
   "cell_type": "code",
   "execution_count": 54,
   "metadata": {},
   "outputs": [
    {
     "name": "stdout",
     "output_type": "stream",
     "text": [
      "ID                   0\n",
      "Name                 0\n",
      "Sex                  0\n",
      "Age               9474\n",
      "Height           60171\n",
      "Weight           62875\n",
      "Team                 0\n",
      "NOC                  0\n",
      "Games                0\n",
      "Year                 0\n",
      "Season               0\n",
      "City                 0\n",
      "Sport                0\n",
      "Event                0\n",
      "Medal           231333\n",
      "Host City            0\n",
      "Host Country         0\n",
      "dtype: int64\n"
     ]
    },
    {
     "data": {
      "text/plain": [
       "<matplotlib.axes._subplots.AxesSubplot at 0x1a275b6128>"
      ]
     },
     "execution_count": 54,
     "metadata": {},
     "output_type": "execute_result"
    },
    {
     "data": {
      "image/png": "[encoded data removed]",
      "text/plain": [
       "<Figure size 1800x720 with 2 Axes>"
      ]
     },
     "metadata": {
      "needs_background": "light"
     },
     "output_type": "display_data"
    }
   ],
   "source": [
    "# check games for null values\n",
    "print(games.isnull().sum())\n",
    "\n",
    "# visualize null values\n",
    "msno.matrix(games)"
   ]
  },
  {
   "cell_type": "code",
   "execution_count": 55,
   "metadata": {
    "scrolled": false
   },
   "outputs": [
    {
     "data": {
      "text/html": [
       "<div>\n",
       "<style scoped>\n",
       "    .dataframe tbody tr th:only-of-type {\n",
       "        vertical-align: middle;\n",
       "    }\n",
       "\n",
       "    .dataframe tbody tr th {\n",
       "        vertical-align: top;\n",
       "    }\n",
       "\n",
       "    .dataframe thead th {\n",
       "        text-align: right;\n",
       "    }\n",
       "</style>\n",
       "<table border=\"1\" class=\"dataframe\">\n",
       "  <thead>\n",
       "    <tr style=\"text-align: right;\">\n",
       "      <th></th>\n",
       "      <th>Name</th>\n",
       "      <th>Sex</th>\n",
       "      <th>NOC</th>\n",
       "      <th>Games</th>\n",
       "      <th>Year</th>\n",
       "      <th>Season</th>\n",
       "      <th>Sport</th>\n",
       "      <th>Event</th>\n",
       "      <th>Medal</th>\n",
       "      <th>Host Country</th>\n",
       "    </tr>\n",
       "  </thead>\n",
       "  <tbody>\n",
       "    <tr>\n",
       "      <th>159033</th>\n",
       "      <td>Edwin Harold \"Teddy\" Flack</td>\n",
       "      <td>M</td>\n",
       "      <td>AUS</td>\n",
       "      <td>1896 Summer</td>\n",
       "      <td>1896</td>\n",
       "      <td>Summer</td>\n",
       "      <td>Tennis</td>\n",
       "      <td>Tennis Men's Singles</td>\n",
       "      <td>NaN</td>\n",
       "      <td>GRE</td>\n",
       "    </tr>\n",
       "    <tr>\n",
       "      <th>159034</th>\n",
       "      <td>Edwin Harold \"Teddy\" Flack</td>\n",
       "      <td>M</td>\n",
       "      <td>AUS</td>\n",
       "      <td>1896 Summer</td>\n",
       "      <td>1896</td>\n",
       "      <td>Summer</td>\n",
       "      <td>Tennis</td>\n",
       "      <td>Tennis Men's Doubles</td>\n",
       "      <td>Bronze</td>\n",
       "      <td>GRE</td>\n",
       "    </tr>\n",
       "    <tr>\n",
       "      <th>159035</th>\n",
       "      <td>Edwin Harold \"Teddy\" Flack</td>\n",
       "      <td>M</td>\n",
       "      <td>AUS</td>\n",
       "      <td>1896 Summer</td>\n",
       "      <td>1896</td>\n",
       "      <td>Summer</td>\n",
       "      <td>Athletics</td>\n",
       "      <td>Athletics Men's 800 metres</td>\n",
       "      <td>Gold</td>\n",
       "      <td>GRE</td>\n",
       "    </tr>\n",
       "    <tr>\n",
       "      <th>159036</th>\n",
       "      <td>Edwin Harold \"Teddy\" Flack</td>\n",
       "      <td>M</td>\n",
       "      <td>AUS</td>\n",
       "      <td>1896 Summer</td>\n",
       "      <td>1896</td>\n",
       "      <td>Summer</td>\n",
       "      <td>Athletics</td>\n",
       "      <td>Athletics Men's 1,500 metres</td>\n",
       "      <td>Gold</td>\n",
       "      <td>GRE</td>\n",
       "    </tr>\n",
       "    <tr>\n",
       "      <th>159037</th>\n",
       "      <td>Edwin Harold \"Teddy\" Flack</td>\n",
       "      <td>M</td>\n",
       "      <td>AUS</td>\n",
       "      <td>1896 Summer</td>\n",
       "      <td>1896</td>\n",
       "      <td>Summer</td>\n",
       "      <td>Athletics</td>\n",
       "      <td>Athletics Men's Marathon</td>\n",
       "      <td>NaN</td>\n",
       "      <td>GRE</td>\n",
       "    </tr>\n",
       "  </tbody>\n",
       "</table>\n",
       "</div>"
      ],
      "text/plain": [
       "                              Name Sex  NOC        Games  Year  Season  \\\n",
       "159033  Edwin Harold \"Teddy\" Flack   M  AUS  1896 Summer  1896  Summer   \n",
       "159034  Edwin Harold \"Teddy\" Flack   M  AUS  1896 Summer  1896  Summer   \n",
       "159035  Edwin Harold \"Teddy\" Flack   M  AUS  1896 Summer  1896  Summer   \n",
       "159036  Edwin Harold \"Teddy\" Flack   M  AUS  1896 Summer  1896  Summer   \n",
       "159037  Edwin Harold \"Teddy\" Flack   M  AUS  1896 Summer  1896  Summer   \n",
       "\n",
       "            Sport                         Event   Medal Host Country  \n",
       "159033     Tennis          Tennis Men's Singles     NaN          GRE  \n",
       "159034     Tennis          Tennis Men's Doubles  Bronze          GRE  \n",
       "159035  Athletics    Athletics Men's 800 metres    Gold          GRE  \n",
       "159036  Athletics  Athletics Men's 1,500 metres    Gold          GRE  \n",
       "159037  Athletics      Athletics Men's Marathon     NaN          GRE  "
      ]
     },
     "execution_count": 55,
     "metadata": {},
     "output_type": "execute_result"
    }
   ],
   "source": [
    "# drop extraneous athlete and event columns\n",
    "games = games.drop(['ID','Age','Height','Weight','Team','City','Host City'], axis = 1)\n",
    "games.head()"
   ]
  },
  {
   "cell_type": "code",
   "execution_count": 56,
   "metadata": {},
   "outputs": [
    {
     "name": "stdout",
     "output_type": "stream",
     "text": [
      "Name                 0\n",
      "Sex                  0\n",
      "NOC                  0\n",
      "Games                0\n",
      "Year                 0\n",
      "Season               0\n",
      "Sport                0\n",
      "Event                0\n",
      "Medal           231333\n",
      "Host Country         0\n",
      "dtype: int64\n"
     ]
    },
    {
     "data": {
      "text/plain": [
       "<matplotlib.axes._subplots.AxesSubplot at 0x1a3bec0a20>"
      ]
     },
     "execution_count": 56,
     "metadata": {},
     "output_type": "execute_result"
    },
    {
     "data": {
      "image/png": "[encoded data removed]",
      "text/plain": [
       "<Figure size 1800x720 with 2 Axes>"
      ]
     },
     "metadata": {
      "needs_background": "light"
     },
     "output_type": "display_data"
    }
   ],
   "source": [
    "# check games for null values\n",
    "print(games.isnull().sum())\n",
    "\n",
    "# visualize null values\n",
    "msno.matrix(games)"
   ]
  },
  {
   "cell_type": "markdown",
   "metadata": {},
   "source": [
    "# ETL: Pickle DataFrames"
   ]
  },
  {
   "cell_type": "code",
   "execution_count": 57,
   "metadata": {},
   "outputs": [],
   "source": [
    "# save dataframe\n",
    "games.to_pickle('../dat/games.pkl')"
   ]
  }
 ],
 "metadata": {
  "kernelspec": {
   "display_name": "Python 3",
   "language": "python",
   "name": "python3"
  },
  "language_info": {
   "codemirror_mode": {
    "name": "ipython",
    "version": 3
   },
   "file_extension": ".py",
   "mimetype": "text/x-python",
   "name": "python",
   "nbconvert_exporter": "python",
   "pygments_lexer": "ipython3",
   "version": "3.7.1"
  }
 },
 "nbformat": 4,
 "nbformat_minor": 2
}
